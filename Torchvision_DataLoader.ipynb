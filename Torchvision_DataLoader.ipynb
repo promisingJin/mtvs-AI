{
  "nbformat": 4,
  "nbformat_minor": 0,
  "metadata": {
    "colab": {
      "provenance": [],
      "collapsed_sections": [],
      "authorship_tag": "ABX9TyPw1vFMTjEPDgfk64A6T0m4",
      "include_colab_link": true
    },
    "kernelspec": {
      "name": "python3",
      "display_name": "Python 3"
    },
    "language_info": {
      "name": "python"
    }
  },
  "cells": [
    {
      "cell_type": "markdown",
      "metadata": {
        "id": "view-in-github",
        "colab_type": "text"
      },
      "source": [
        "<a href=\"https://colab.research.google.com/github/Beginner98/mtvs-AI/blob/main/Torchvision_DataLoader.ipynb\" target=\"_parent\"><img src=\"https://colab.research.google.com/assets/colab-badge.svg\" alt=\"Open In Colab\"/></a>"
      ]
    },
    {
      "cell_type": "markdown",
      "source": [
        "## Dataset and Dataloader\n",
        "20220910<br>\n",
        "10:04am<br>\n",
        "<https://tutorials.pytorch.kr/beginner/basics/data_tutorial.html>"
      ],
      "metadata": {
        "id": "AJw3KjS5lxjT"
      }
    },
    {
      "cell_type": "code",
      "source": [
        "import torch\n",
        "from torch.utils.data import Dataset\n",
        "from torchvision import datasets\n",
        "from torchvision.transforms import ToTensor\n",
        "import matplotlib.pyplot as plt\n",
        "\n",
        "training_data = datasets.FashionMNIST(root='data',    # 학습 데이터가 저장되는 경로\n",
        "                                      train=True,     # 학습용 데이터셋 여부 지정\n",
        "                                      download=True,  # 데이터가 없는 경우 인터넷에서 다운로드\n",
        "                                      transform=ToTensor() # feature과 label transform을 지정\n",
        ")\n",
        "test_data = datasets.FashionMNIST(root='data',       # 테스트 데이터가 저장되는 경로 \n",
        "                                  train=False,        # 학습용 데이터 여부\n",
        "                                  download=True,\n",
        "                                  transform=ToTensor()\n",
        "\n",
        ")"
      ],
      "metadata": {
        "id": "iV0LpgOq7Zu6"
      },
      "execution_count": 19,
      "outputs": []
    },
    {
      "cell_type": "code",
      "source": [
        "print(type(training_data))\n",
        "print(type(test_data))"
      ],
      "metadata": {
        "colab": {
          "base_uri": "https://localhost:8080/"
        },
        "id": "hW-VDvkv9geY",
        "outputId": "12c2a7b2-8501-42eb-f968-4c8bbc2311cb"
      },
      "execution_count": 20,
      "outputs": [
        {
          "output_type": "stream",
          "name": "stdout",
          "text": [
            "<class 'torchvision.datasets.mnist.FashionMNIST'>\n",
            "<class 'torchvision.datasets.mnist.FashionMNIST'>\n"
          ]
        }
      ]
    },
    {
      "cell_type": "code",
      "source": [
        "print(training_data)\n",
        "print(test_data)"
      ],
      "metadata": {
        "colab": {
          "base_uri": "https://localhost:8080/"
        },
        "id": "ZW6lzMwv-FXX",
        "outputId": "bbe5a456-3054-40a0-f5c5-cfbecb91108c"
      },
      "execution_count": 21,
      "outputs": [
        {
          "output_type": "stream",
          "name": "stdout",
          "text": [
            "Dataset FashionMNIST\n",
            "    Number of datapoints: 60000\n",
            "    Root location: data\n",
            "    Split: Train\n",
            "    StandardTransform\n",
            "Transform: ToTensor()\n",
            "Dataset FashionMNIST\n",
            "    Number of datapoints: 10000\n",
            "    Root location: data\n",
            "    Split: Test\n",
            "    StandardTransform\n",
            "Transform: ToTensor()\n"
          ]
        }
      ]
    },
    {
      "cell_type": "code",
      "source": [
        "### Dataset을 순회하고 시각화하기\n",
        "labels_map = {\n",
        "    0:'T-Shirt',\n",
        "     1: 'Trouser',\n",
        "     2:'Pullover',\n",
        "     3:'Dress',\n",
        "     4:'Coat',\n",
        "     5: 'Sandal',\n",
        "     6: 'Shirt',\n",
        "     7:'Sneaker',\n",
        "     8: 'Bag',\n",
        "     9: 'Ankle boot'\n",
        "}\n",
        "\n",
        "figure = plt.figure(figsize = (8, 8))           # 출력 사이즈 정하기\n",
        "cols, rows = 3, 3                                  \n",
        "for i in range(1, cols * rows + 1):\n",
        "  # print(i)\n",
        "  # traindata의 사이즈 중 하나를 골라서 텐서의 내용 출력(인덱스 고르기)\n",
        "  simple_idx = torch.randint(len(training_data), size = (1, )).item()\n",
        "  # simple_idx = torch.randint(len(training_data), size = (1, ))\n",
        "  # print(simple_idx.item())\n",
        "  img, label = training_data[simple_idx]  # 이미지와 라벨이 반환됨\n",
        "  figure.add_subplot(rows, cols, i)       # 3 * 3 의 사이즈 중 순서대로 출력\n",
        "  plt.title(labels_map[label])            # 위에서 받은 라벨의 결과값을 title\n",
        "  plt.axis('off')                         # 축 출력 안함\n",
        "  # print(img.shape)\n",
        "  # print(img.squeeze().shape)\n",
        "  plt.imshow(img.squeeze(), cmap='gray')\n",
        "plt.show()\n",
        "\n"
      ],
      "metadata": {
        "colab": {
          "base_uri": "https://localhost:8080/",
          "height": 482
        },
        "id": "hIx0rrKq-Lym",
        "outputId": "58a595d9-d857-4419-904e-03745aa693b6"
      },
      "execution_count": 71,
      "outputs": [
        {
          "output_type": "display_data",
          "data": {
            "text/plain": [
              "<Figure size 576x576 with 9 Axes>"
            ],
            "image/png": "[encoded data removed]"
          },
          "metadata": {
            "needs_background": "light"
          }
        }
      ]
    },
    {
      "cell_type": "code",
      "source": [
        "import torch\n",
        "a = torch.randint(100, size = (1, 5))\n",
        "print(a)\n",
        "b = torch.randint(20, size = (1, ))\n",
        "print(b)\n",
        "# print(a.item())  한개의 텐서 요소만 파이썬 스칼라로 변환 가능\n",
        "print(b.item())"
      ],
      "metadata": {
        "colab": {
          "base_uri": "https://localhost:8080/"
        },
        "id": "Bnx9pzyKhjX1",
        "outputId": "0ba69197-49fc-45b4-c15d-288184abed46"
      },
      "execution_count": 46,
      "outputs": [
        {
          "output_type": "stream",
          "name": "stdout",
          "text": [
            "tensor([[82, 76, 25, 71, 44]])\n",
            "tensor([6])\n",
            "6\n"
          ]
        }
      ]
    },
    {
      "cell_type": "code",
      "source": [
        "# np.sqeeze()\n",
        "# https://jimmy-ai.tistory.com/101\n",
        "import numpy as np\n",
        "import  sys\n",
        "\n",
        "a = np.array([[[1, 2, 3],\n",
        "               [4, 5, 6],\n",
        "               [7, 8, 9]]])\n",
        "print(a)\n",
        "print(a.shape)\n",
        "print('=========')\n",
        "\n",
        "\n",
        "a = a.squeeze()\n",
        "print(a)\n",
        "print(a.shape)\n",
        "print('=========')\n",
        "\n",
        "b = np.array([[[[1,2,3]],\n",
        "                [[4,5,6]],\n",
        "                [[7,8,9]]]])\n",
        "print(b.shape)\n",
        "print('=========')\n",
        "b = b.squeeze()\n",
        "print(b)\n",
        "print(b.shape)\n"
      ],
      "metadata": {
        "colab": {
          "base_uri": "https://localhost:8080/"
        },
        "id": "RfdUQrOJlDuG",
        "outputId": "d3789505-adea-4724-e1d4-4b4b104dee0c"
      },
      "execution_count": 64,
      "outputs": [
        {
          "output_type": "stream",
          "name": "stdout",
          "text": [
            "[[[1 2 3]\n",
            "  [4 5 6]\n",
            "  [7 8 9]]]\n",
            "(1, 3, 3)\n",
            "=========\n",
            "[[1 2 3]\n",
            " [4 5 6]\n",
            " [7 8 9]]\n",
            "(3, 3)\n",
            "=========\n",
            "(1, 3, 1, 3)\n",
            "=========\n",
            "[[1 2 3]\n",
            " [4 5 6]\n",
            " [7 8 9]]\n",
            "(3, 3)\n"
          ]
        }
      ]
    },
    {
      "cell_type": "markdown",
      "source": [
        "## 파일에서 사용자 정의 데이터셋 만들기\n",
        "사용자 정의 Dataset 클래스는 반드시 3개 함수를 구현해야 함: ***__init__***, ***__len__***, 그리고 ***__getitem__***."
      ],
      "metadata": {
        "id": "fxfmUPxFEFSI"
      }
    },
    {
      "cell_type": "code",
      "source": [
        "# 파일에서 사용자 정의 데이터셋 만들기\n",
        "import os\n",
        "import pandas as pd\n",
        "from torchvision.io import read_image\n",
        "\n",
        "\n",
        "class CustomImageDataset(Dataset):\n",
        "  # init 함수는 객체가 실행 될 때 한 번만 실행됨. 이미지와 주석 파일(ann)\n",
        "  def __init__(self, annotaions_file, img_dir, transform=None, target_transform=None):\n",
        "    self.image_labels = pd.read_csv(annotaions_file, names = ['file_name', 'label'])\n",
        "    self.img_dir = img_dir,\n",
        "    self.transform = transform,\n",
        "    self.target_transform = target_transform\n",
        "\n",
        "\n",
        "  # 데이터셋의 샘플 개수를 반환\n",
        "  def __len__(self):\n",
        "    return len(self.img_labels)\n",
        "\n",
        "\n",
        "  # 주어진 idx에 해당하는 샘플을 데이터셋에서 불러오고 반환, \n",
        "  # 인덱스를 기반으로, 디스크에서 이미지와 위치를 식별하고,  read_image를 사용하여 이미지를 텐서로 변환\n",
        "  # self.img_labels의 csv데이터로부터 해당하는 정답(label)을 가져오고, transform 함수들을 호출한 뒤,\n",
        "  # 텐서 이미지와 라벨을 dictionary 형으로 변환\n",
        "  def __getitem__(self, idx):\n",
        "    img_path = os.path.join(self.img_dir, self.img_labels.iloc[idx, 0])\n",
        "    image = read_image(img_path)\n",
        "    label = self.img_labels.iloc[idx, 1]\n",
        "    if self.tarnsform:\n",
        "      image = self.transform(image)\n",
        "    if self.target_transform:\n",
        "      label = self.target_transform(label)\n",
        "    return image, label\n"
      ],
      "metadata": {
        "id": "ChHpoyYxAVzE"
      },
      "execution_count": 23,
      "outputs": []
    },
    {
      "cell_type": "code",
      "source": [
        "# DataLoader로 학습용 데이터 준비하기\n",
        "\n",
        "from torch.utils.data import DataLoader\n",
        "\n",
        "train_dataloader = DataLoader(training_data, batch_size = 64, shuffle = True)\n",
        "test_dataloader = DataLoader(test_data, batch_size = 64, shuffle = True)\n"
      ],
      "metadata": {
        "id": "OYMoUMlQGb1i"
      },
      "execution_count": 24,
      "outputs": []
    },
    {
      "cell_type": "code",
      "source": [
        "# Dataset 를 통해 순회하기\n",
        "# Dataloader에 데이터셋을 불러온 뒤에는 필요에 따라 데이터셋을 순회할 수 있다. \n",
        "# 각 순회는 (각각 배치 사이즈의 특징과 정답을 포함하는) train_features와 train_labels의 묶음을 반환. \n",
        "# shufflr=True로 지정했으므로, 모든 배치를 순회한 뒤 데이터가 섞임.\n",
        "# 이미지와 정답 표시\n",
        "train_features, train_labels = next(iter(train_dataloader))\n",
        "print(f'Feature batch shzpe: {train_features.size()}')\n",
        "print(f'Label batch shape: {train_labels.size()}')\n",
        "img = train_features[0].squeeze()\n",
        "label = train_labels[0]\n",
        "plt.imshow(img, cmap='gray')\n",
        "plt.show()\n",
        "print(f'label: {label}')"
      ],
      "metadata": {
        "colab": {
          "base_uri": "https://localhost:8080/",
          "height": 317
        },
        "id": "Tsr-s2PWGPyt",
        "outputId": "3bb63174-10c3-4821-9eb4-ab09c47cad89"
      },
      "execution_count": 25,
      "outputs": [
        {
          "output_type": "stream",
          "name": "stdout",
          "text": [
            "Feature batch shzpe: torch.Size([64, 1, 28, 28])\n",
            "Label batch shape: torch.Size([64])\n"
          ]
        },
        {
          "output_type": "display_data",
          "data": {
            "text/plain": [
              "<Figure size 432x288 with 1 Axes>"
            ],
            "image/png": "[encoded data removed]"
          },
          "metadata": {
            "needs_background": "light"
          }
        },
        {
          "output_type": "stream",
          "name": "stdout",
          "text": [
            "label: 1\n"
          ]
        }
      ]
    }
  ]
}