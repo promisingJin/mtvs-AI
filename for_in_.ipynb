{
  "nbformat": 4,
  "nbformat_minor": 0,
  "metadata": {
    "colab": {
      "provenance": [],
      "authorship_tag": "ABX9TyOK4qqgnGjAUT5voh4Xvjpu"
    },
    "kernelspec": {
      "name": "python3",
      "display_name": "Python 3"
    },
    "language_info": {
      "name": "python"
    }
  },
  "cells": [
    {
      "cell_type": "markdown",
      "source": [
        "### 20220910\n",
        "6:54 am<br>\n",
        "https://suwoni-codelab.com/python%20%EA%B8%B0%EB%B3%B8/2018/03/03/Python-Basic-for-in/<br>\n",
        "https://wikidocs.net/16045"
      ],
      "metadata": {
        "id": "ttpMtRU0LcO_"
      }
    },
    {
      "cell_type": "markdown",
      "source": [
        "#### for in 반복문"
      ],
      "metadata": {
        "id": "F5vTtlUKP8lC"
      }
    },
    {
      "cell_type": "code",
      "source": [
        "# iterable 타입인지 확인\n",
        "import collections\n",
        "var_list = [1, 3, 5, 7]\n",
        "isinstance(var_list, collections.Iterable)"
      ],
      "metadata": {
        "colab": {
          "base_uri": "https://localhost:8080/"
        },
        "id": "BX3gH6IbQBL4",
        "outputId": "1ca6ef37-d353-41f4-df94-874f963f9da8"
      },
      "execution_count": 1,
      "outputs": [
        {
          "output_type": "stream",
          "name": "stderr",
          "text": [
            "/usr/local/lib/python3.7/dist-packages/ipykernel_launcher.py:4: DeprecationWarning: Using or importing the ABCs from 'collections' instead of from 'collections.abc' is deprecated since Python 3.3,and in 3.9 it will stop working\n",
            "  after removing the cwd from sys.path.\n"
          ]
        },
        {
          "output_type": "execute_result",
          "data": {
            "text/plain": [
              "True"
            ]
          },
          "metadata": {},
          "execution_count": 1
        }
      ]
    },
    {
      "cell_type": "code",
      "source": [
        "var_dict = {'a':3, 'b':1}\n",
        "isinstance(var_dict, collections.Iterable)"
      ],
      "metadata": {
        "colab": {
          "base_uri": "https://localhost:8080/"
        },
        "id": "nYrICZN3QWlH",
        "outputId": "4c156e54-d9f5-4afe-9642-f5cf963342c9"
      },
      "execution_count": 2,
      "outputs": [
        {
          "output_type": "execute_result",
          "data": {
            "text/plain": [
              "True"
            ]
          },
          "metadata": {},
          "execution_count": 2
        }
      ]
    },
    {
      "cell_type": "code",
      "source": [
        "var_set = {1, 3}\n",
        "isinstance(var_set, collections.Iterable)"
      ],
      "metadata": {
        "colab": {
          "base_uri": "https://localhost:8080/"
        },
        "id": "IjfHfTwxQf0k",
        "outputId": "1c2a3ee2-bdbb-4f30-ef00-29e451e446bf"
      },
      "execution_count": 3,
      "outputs": [
        {
          "output_type": "execute_result",
          "data": {
            "text/plain": [
              "True"
            ]
          },
          "metadata": {},
          "execution_count": 3
        }
      ]
    },
    {
      "cell_type": "code",
      "source": [
        "var_str = 'abc'\n",
        "isinstance(var_str, collections.Iterable)"
      ],
      "metadata": {
        "colab": {
          "base_uri": "https://localhost:8080/"
        },
        "id": "3HRKtAaIQmfu",
        "outputId": "cf17c078-fbb1-44b3-d154-b3708ab151f2"
      },
      "execution_count": 14,
      "outputs": [
        {
          "output_type": "execute_result",
          "data": {
            "text/plain": [
              "True"
            ]
          },
          "metadata": {},
          "execution_count": 14
        }
      ]
    },
    {
      "cell_type": "code",
      "source": [
        "var_bytes = b'abcdef'\n",
        "isinstance(var_bytes, collections.Iterable)"
      ],
      "metadata": {
        "colab": {
          "base_uri": "https://localhost:8080/"
        },
        "id": "gq6F2Y0gQs05",
        "outputId": "a461a67c-e28f-409f-cf59-4c097928f6f9"
      },
      "execution_count": 13,
      "outputs": [
        {
          "output_type": "execute_result",
          "data": {
            "text/plain": [
              "True"
            ]
          },
          "metadata": {},
          "execution_count": 13
        }
      ]
    },
    {
      "cell_type": "code",
      "source": [
        "print(var_bytes)"
      ],
      "metadata": {
        "colab": {
          "base_uri": "https://localhost:8080/"
        },
        "id": "TD4qQj0zQxU-",
        "outputId": "7e849f1d-d749-4d40-a68e-534ef494f54f"
      },
      "execution_count": 6,
      "outputs": [
        {
          "output_type": "stream",
          "name": "stdout",
          "text": [
            "b'abcdef'\n"
          ]
        }
      ]
    },
    {
      "cell_type": "code",
      "source": [
        "var_tuple = (1, 3, 6, 4)\n",
        "isinstance(var_tuple, collections.Iterable)"
      ],
      "metadata": {
        "colab": {
          "base_uri": "https://localhost:8080/"
        },
        "id": "2MIZkyRaQzeX",
        "outputId": "6811f29c-9c8e-4d2d-8049-2b796e95fa16"
      },
      "execution_count": 12,
      "outputs": [
        {
          "output_type": "execute_result",
          "data": {
            "text/plain": [
              "True"
            ]
          },
          "metadata": {},
          "execution_count": 12
        }
      ]
    },
    {
      "cell_type": "code",
      "source": [
        "var_range = range(0, 5)\n",
        "isinstance(var_range, collections.Iterable)"
      ],
      "metadata": {
        "colab": {
          "base_uri": "https://localhost:8080/"
        },
        "id": "U79-dFxkQ56G",
        "outputId": "eb6d59c8-2579-4683-ca72-23cc6888731c"
      },
      "execution_count": 11,
      "outputs": [
        {
          "output_type": "execute_result",
          "data": {
            "text/plain": [
              "True"
            ]
          },
          "metadata": {},
          "execution_count": 11
        }
      ]
    },
    {
      "cell_type": "code",
      "source": [
        "# iterable 하지 않음\n",
        "var_int = 3532\n",
        "isinstance(var_int, collections.Iterable)"
      ],
      "metadata": {
        "colab": {
          "base_uri": "https://localhost:8080/"
        },
        "id": "Z-N0gK6DQ8dZ",
        "outputId": "68c228f1-95fd-453e-a6ab-39faa5210131"
      },
      "execution_count": 10,
      "outputs": [
        {
          "output_type": "execute_result",
          "data": {
            "text/plain": [
              "False"
            ]
          },
          "metadata": {},
          "execution_count": 10
        }
      ]
    },
    {
      "cell_type": "code",
      "source": [
        "var_float = 10.2\n",
        "isinstance(var_float, collections.Iterable)"
      ],
      "metadata": {
        "colab": {
          "base_uri": "https://localhost:8080/"
        },
        "id": "pJR-YQLtRBR_",
        "outputId": "647b20a6-06b8-4b25-84cb-5a20a69c8f34"
      },
      "execution_count": 16,
      "outputs": [
        {
          "output_type": "execute_result",
          "data": {
            "text/plain": [
              "False"
            ]
          },
          "metadata": {},
          "execution_count": 16
        }
      ]
    },
    {
      "cell_type": "code",
      "source": [
        "var_none = None\n",
        "isinstance(var_none, collections.Iterable)"
      ],
      "metadata": {
        "colab": {
          "base_uri": "https://localhost:8080/"
        },
        "id": "hcVTJiSARNaa",
        "outputId": "61dd9bf5-6791-4d35-f5fe-1e300a4865df"
      },
      "execution_count": 17,
      "outputs": [
        {
          "output_type": "execute_result",
          "data": {
            "text/plain": [
              "False"
            ]
          },
          "metadata": {},
          "execution_count": 17
        }
      ]
    },
    {
      "cell_type": "code",
      "source": [
        "for i in var_list:\n",
        "  print(i)"
      ],
      "metadata": {
        "colab": {
          "base_uri": "https://localhost:8080/"
        },
        "id": "K5F951UORUT_",
        "outputId": "dc81a95d-2eeb-4105-e803-898fad7af9eb"
      },
      "execution_count": 18,
      "outputs": [
        {
          "output_type": "stream",
          "name": "stdout",
          "text": [
            "1\n",
            "3\n",
            "5\n",
            "7\n"
          ]
        }
      ]
    },
    {
      "cell_type": "code",
      "source": [
        "for i in var_dict:\n",
        "  print(i)\n",
        "\n",
        "# key값만 출력됨."
      ],
      "metadata": {
        "colab": {
          "base_uri": "https://localhost:8080/"
        },
        "id": "W6pgJ7zsRaec",
        "outputId": "eab66b8c-a022-4a65-f6fe-a7b30a3e4000"
      },
      "execution_count": 19,
      "outputs": [
        {
          "output_type": "stream",
          "name": "stdout",
          "text": [
            "a\n",
            "b\n"
          ]
        }
      ]
    },
    {
      "cell_type": "code",
      "source": [
        "for i in var_bytes:\n",
        "  print(i)"
      ],
      "metadata": {
        "colab": {
          "base_uri": "https://localhost:8080/"
        },
        "id": "O5CkcKn_Rcu0",
        "outputId": "6a9d5e19-1ef1-40f3-ef1d-a3bc42409c22"
      },
      "execution_count": 20,
      "outputs": [
        {
          "output_type": "stream",
          "name": "stdout",
          "text": [
            "97\n",
            "98\n",
            "99\n",
            "100\n",
            "101\n",
            "102\n"
          ]
        }
      ]
    },
    {
      "cell_type": "code",
      "source": [
        "for i in var_range:\n",
        "  print(i)"
      ],
      "metadata": {
        "colab": {
          "base_uri": "https://localhost:8080/"
        },
        "id": "Dj8aDK18RkmV",
        "outputId": "e21aec40-e0a5-4a75-edf7-a0ca76fd6650"
      },
      "execution_count": 23,
      "outputs": [
        {
          "output_type": "stream",
          "name": "stdout",
          "text": [
            "0\n",
            "1\n",
            "2\n",
            "3\n",
            "4\n"
          ]
        }
      ]
    },
    {
      "cell_type": "code",
      "source": [
        "for i in var_tuple:\n",
        "  print(i)"
      ],
      "metadata": {
        "colab": {
          "base_uri": "https://localhost:8080/"
        },
        "id": "_YQtXPNbRf85",
        "outputId": "afb6e56f-0a03-47b1-95dd-3bfe99b88f68"
      },
      "execution_count": 21,
      "outputs": [
        {
          "output_type": "stream",
          "name": "stdout",
          "text": [
            "1\n",
            "3\n",
            "6\n",
            "4\n"
          ]
        }
      ]
    },
    {
      "cell_type": "markdown",
      "source": [
        "#### range"
      ],
      "metadata": {
        "id": "d5ME5BK0R47R"
      }
    },
    {
      "cell_type": "code",
      "source": [
        "range(5)"
      ],
      "metadata": {
        "colab": {
          "base_uri": "https://localhost:8080/"
        },
        "id": "z_6NKrV7SZG4",
        "outputId": "1980ca38-8625-45db-d967-01697bf49536"
      },
      "execution_count": 28,
      "outputs": [
        {
          "output_type": "execute_result",
          "data": {
            "text/plain": [
              "range(0, 5)"
            ]
          },
          "metadata": {},
          "execution_count": 28
        }
      ]
    },
    {
      "cell_type": "code",
      "source": [
        "for i in range(5):\n",
        "  print(i)"
      ],
      "metadata": {
        "colab": {
          "base_uri": "https://localhost:8080/"
        },
        "id": "C6-4_AzPR62I",
        "outputId": "2a0d509e-eb90-44f7-c731-cdd7fcea2ae6"
      },
      "execution_count": 26,
      "outputs": [
        {
          "output_type": "stream",
          "name": "stdout",
          "text": [
            "0\n",
            "1\n",
            "2\n",
            "3\n",
            "4\n"
          ]
        }
      ]
    },
    {
      "cell_type": "code",
      "source": [
        "# range는 값을 확인하기 위해서 다른 순서 있는 컬렉션으로 변환해야 함\n",
        "range(5, 10)"
      ],
      "metadata": {
        "colab": {
          "base_uri": "https://localhost:8080/"
        },
        "id": "VYB_rJADR_c7",
        "outputId": "15c70190-7502-46c6-9458-41d386c4e77f"
      },
      "execution_count": 27,
      "outputs": [
        {
          "output_type": "execute_result",
          "data": {
            "text/plain": [
              "range(5, 10)"
            ]
          },
          "metadata": {},
          "execution_count": 27
        }
      ]
    },
    {
      "cell_type": "code",
      "source": [
        "list(range(5, 10))"
      ],
      "metadata": {
        "colab": {
          "base_uri": "https://localhost:8080/"
        },
        "id": "wutcxsmPSVt0",
        "outputId": "846476bb-21bf-4320-c019-b67a1215639e"
      },
      "execution_count": 29,
      "outputs": [
        {
          "output_type": "execute_result",
          "data": {
            "text/plain": [
              "[5, 6, 7, 8, 9]"
            ]
          },
          "metadata": {},
          "execution_count": 29
        }
      ]
    },
    {
      "cell_type": "code",
      "source": [
        "tuple(range(5, 10))"
      ],
      "metadata": {
        "colab": {
          "base_uri": "https://localhost:8080/"
        },
        "id": "VjT4_bHvSctH",
        "outputId": "00610342-84b8-4f0e-ae01-01a3ca02b96f"
      },
      "execution_count": 31,
      "outputs": [
        {
          "output_type": "execute_result",
          "data": {
            "text/plain": [
              "(5, 6, 7, 8, 9)"
            ]
          },
          "metadata": {},
          "execution_count": 31
        }
      ]
    },
    {
      "cell_type": "code",
      "source": [
        "# step 사용\n",
        "list(range(10, 20, 2))"
      ],
      "metadata": {
        "colab": {
          "base_uri": "https://localhost:8080/"
        },
        "id": "oezUiLweSf-I",
        "outputId": "b55db405-d2cc-4c2e-cc19-590a8f1aa7cd"
      },
      "execution_count": 32,
      "outputs": [
        {
          "output_type": "execute_result",
          "data": {
            "text/plain": [
              "[10, 12, 14, 16, 18]"
            ]
          },
          "metadata": {},
          "execution_count": 32
        }
      ]
    },
    {
      "cell_type": "code",
      "source": [
        "list(range(10, 20, 3))"
      ],
      "metadata": {
        "colab": {
          "base_uri": "https://localhost:8080/"
        },
        "id": "DZ630sdDSmAf",
        "outputId": "c62737fb-2f59-418f-f892-10a39eb4d579"
      },
      "execution_count": 33,
      "outputs": [
        {
          "output_type": "execute_result",
          "data": {
            "text/plain": [
              "[10, 13, 16, 19]"
            ]
          },
          "metadata": {},
          "execution_count": 33
        }
      ]
    },
    {
      "cell_type": "code",
      "source": [
        "# 파이썬에서 권장하지 않는 패턴\n",
        "s = [1, 3, 5]\n",
        "for i in range(len(s)):\n",
        "  print(s[i])"
      ],
      "metadata": {
        "colab": {
          "base_uri": "https://localhost:8080/"
        },
        "id": "h5CV_3BqSoTO",
        "outputId": "bdbc8a64-8799-45ae-8e89-f257641f7a23"
      },
      "execution_count": 34,
      "outputs": [
        {
          "output_type": "stream",
          "name": "stdout",
          "text": [
            "1\n",
            "3\n",
            "5\n"
          ]
        }
      ]
    },
    {
      "cell_type": "code",
      "source": [
        "# 파이썬에서 권장하는 패턴\n",
        "for v in s:\n",
        "  print(v)"
      ],
      "metadata": {
        "colab": {
          "base_uri": "https://localhost:8080/"
        },
        "id": "ORfCWOORSyS3",
        "outputId": "6e9049f9-4f32-426e-ccd2-24c601cad3ae"
      },
      "execution_count": 35,
      "outputs": [
        {
          "output_type": "stream",
          "name": "stdout",
          "text": [
            "1\n",
            "3\n",
            "5\n"
          ]
        }
      ]
    },
    {
      "cell_type": "markdown",
      "source": [
        "### enumerate\n",
        "- 반복문 사용 시 몇 번째 반복문인지 확인\n",
        "- ***index*** 번호와 ***컬렉션의*** 원소를 **tuple** 형태로 반환"
      ],
      "metadata": {
        "id": "1aIZWvstS1pB"
      }
    },
    {
      "cell_type": "code",
      "source": [
        "t = [1, 52, 65, 96, 34, 16]\n",
        "for p in enumerate(t):\n",
        "  print(p)"
      ],
      "metadata": {
        "colab": {
          "base_uri": "https://localhost:8080/"
        },
        "id": "U0NHJr0hS4N0",
        "outputId": "9824c022-bdd7-4148-b312-d9d5cdf28fd7"
      },
      "execution_count": 37,
      "outputs": [
        {
          "output_type": "stream",
          "name": "stdout",
          "text": [
            "(0, 1)\n",
            "(1, 52)\n",
            "(2, 65)\n",
            "(3, 96)\n",
            "(4, 34)\n",
            "(5, 16)\n"
          ]
        }
      ]
    },
    {
      "cell_type": "code",
      "source": [
        "# tuple 형태 반환을 이용하여 활용\n",
        "for i, v in enumerate(t):\n",
        "  print('index: {}, value: {}'.format(i, v))"
      ],
      "metadata": {
        "colab": {
          "base_uri": "https://localhost:8080/"
        },
        "id": "SfdFx88GTTpA",
        "outputId": "2b20d244-fac6-404b-a295-0c68d2d973f0"
      },
      "execution_count": 39,
      "outputs": [
        {
          "output_type": "stream",
          "name": "stdout",
          "text": [
            "index: 0, value: 1\n",
            "index: 1, value: 52\n",
            "index: 2, value: 65\n",
            "index: 3, value: 96\n",
            "index: 4, value: 34\n",
            "index: 5, value: 16\n"
          ]
        }
      ]
    }
  ]
}