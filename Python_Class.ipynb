{
  "nbformat": 4,
  "nbformat_minor": 0,
  "metadata": {
    "colab": {
      "provenance": [],
      "authorship_tag": "ABX9TyP+u80346u09nHPLJowndGE"
    },
    "kernelspec": {
      "name": "python3",
      "display_name": "Python 3"
    },
    "language_info": {
      "name": "python"
    }
  },
  "cells": [
    {
      "cell_type": "code",
      "source": [
        "# 20220910\n",
        "# 11:33 am\n",
        "# https://kingnamji.tistory.com/6"
      ],
      "metadata": {
        "id": "EuorrCuuX0r9"
      },
      "execution_count": null,
      "outputs": []
    },
    {
      "cell_type": "code",
      "execution_count": 1,
      "metadata": {
        "id": "L_Vl2hCYNzjs"
      },
      "outputs": [],
      "source": [
        "class car:\n",
        "  def on(self):\n",
        "    print('부릉부릉')"
      ]
    },
    {
      "cell_type": "code",
      "source": [
        "eightCyl = car()   # 객체 생성\n",
        "eightCyl.on()\n",
        "\n",
        "# eightcyl는 객체(object)이다\n",
        "# eightyCyl은 car class의 instance임.\n",
        "# 인스턴스라는 표현은 특정객체가 어떤 클래스의 객체인지 관계를 중점으로 표현할 때 사용.\n",
        "# 그래서 eightCyl은 객체라는 말이 더 잘 어울림"
      ],
      "metadata": {
        "colab": {
          "base_uri": "https://localhost:8080/"
        },
        "id": "bYZhqkekOGJx",
        "outputId": "0ea38c12-010a-4afe-ff71-b5cb4f836da1"
      },
      "execution_count": 2,
      "outputs": [
        {
          "output_type": "stream",
          "name": "stdout",
          "text": [
            "부릉부릉\n"
          ]
        }
      ]
    },
    {
      "cell_type": "code",
      "source": [
        "# 매서드(method)와 생성자(constructor)\n",
        "# 메서드 속성은 클래스 안에서 구현하는 함수\n",
        "# 메서드의 첫 번째 매개변수 이름은 클래스의 인스턴스 자신. 관례적으로 self로 사용\n",
        "\n",
        "class example():\n",
        "  def __init__(self):\n",
        "    self.ary=[]\n",
        "    print('__init__() 메서드를 통해 객체를 초기화 했습니다.')\n",
        "\n",
        "  def ary_append(self, item):\n",
        "     self.ary.append(item)\n",
        "ex1 = example()\n",
        "print(ex1.ary)\n",
        "\n",
        "ex1.ary_append(10)\n",
        "print(ex1.ary)"
      ],
      "metadata": {
        "colab": {
          "base_uri": "https://localhost:8080/"
        },
        "id": "IQSuYTIHOOjX",
        "outputId": "2fc677cc-8efd-44bd-a8d4-b796cea777bf"
      },
      "execution_count": 5,
      "outputs": [
        {
          "output_type": "stream",
          "name": "stdout",
          "text": [
            "__init__() 메서드를 통해 객체를 초기화 했습니다.\n",
            "[]\n",
            "[10]\n"
          ]
        }
      ]
    },
    {
      "cell_type": "code",
      "source": [
        "# 메서드 이름이 __init__인 경우 이 메서드를 생성자라고 한다.\n",
        "# 생성자는 객체가 생성되면 자동으로 호출되어 객체를 초기화한다.\n",
        "# 객체에 초깃값을 설정해야 할 필요가 있을 때는 \n",
        "# 메서드를 호출하여 초깃값을 설정하기보다는 생성자를 구현하는 것이 안전한 방법이다.\n",
        "# 생성자(Constructor)란 객체가 생성될 때 자동으로 호출되는 메서드를 의미한다.\n",
        "\n",
        "class Hello():\n",
        "  def __init__(self, value):  # 객체를 초기화하는 메서드\n",
        "    self.value = value\n",
        "    print('__init__() 메서드를 통해 객체를 초기화했습니다.')\n",
        "    print(f'인스턴스의 value값은 {self.value} 입니다.')\n",
        "\n",
        "a = Hello(20)"
      ],
      "metadata": {
        "colab": {
          "base_uri": "https://localhost:8080/"
        },
        "id": "VJh_NH9QUcCR",
        "outputId": "92b6c2e6-0a48-4095-d59d-234d53053156"
      },
      "execution_count": 6,
      "outputs": [
        {
          "output_type": "stream",
          "name": "stdout",
          "text": [
            "__init__() 메서드를 통해 객체를 초기화했습니다.\n",
            "인스턴스의 value값은 20 입니다.\n"
          ]
        }
      ]
    }
  ]
}
